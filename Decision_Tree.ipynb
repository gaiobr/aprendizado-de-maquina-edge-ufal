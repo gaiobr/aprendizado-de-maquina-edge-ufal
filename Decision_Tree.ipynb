{
  "nbformat": 4,
  "nbformat_minor": 0,
  "metadata": {
    "colab": {
      "name": "Decision_Tree.ipynb",
      "provenance": [],
      "authorship_tag": "ABX9TyNs2etneAHCU+SVioaiFoCy",
      "include_colab_link": true
    },
    "kernelspec": {
      "name": "python3",
      "display_name": "Python 3"
    }
  },
  "cells": [
    {
      "cell_type": "markdown",
      "metadata": {
        "id": "view-in-github",
        "colab_type": "text"
      },
      "source": [
        "<a href=\"https://colab.research.google.com/github/gaiobr/aprendizado-de-maquina-edge-ufal/blob/master/Decision_Tree.ipynb\" target=\"_parent\"><img src=\"https://colab.research.google.com/assets/colab-badge.svg\" alt=\"Open In Colab\"/></a>"
      ]
    },
    {
      "cell_type": "markdown",
      "metadata": {
        "id": "jyouyuG591bx",
        "colab_type": "text"
      },
      "source": [
        "# **Dados de Qualidade de Vinho Tinto**\n",
        "\n",
        "Dataset com dados fisíco-químicos e sensorial sobre vinhos tintos da denominação de origem controlada \"Vinho Verde\".\n",
        "\n",
        "https://www.kaggle.com/uciml/red-wine-quality-cortez-et-al-2009\n",
        "\n"
      ]
    },
    {
      "cell_type": "code",
      "metadata": {
        "id": "88-KDzJvTG7o",
        "colab_type": "code",
        "colab": {
          "base_uri": "https://localhost:8080/",
          "height": 34
        },
        "outputId": "20a8cb51-0d78-416a-e2d6-cd62f4a57548"
      },
      "source": [
        "  from google.colab import drive\n",
        "  drive.mount('/content/drive/')"
      ],
      "execution_count": 152,
      "outputs": [
        {
          "output_type": "stream",
          "text": [
            "Drive already mounted at /content/drive/; to attempt to forcibly remount, call drive.mount(\"/content/drive/\", force_remount=True).\n"
          ],
          "name": "stdout"
        }
      ]
    },
    {
      "cell_type": "markdown",
      "metadata": {
        "id": "KgjwmKMr978v",
        "colab_type": "text"
      },
      "source": [
        "## **1. Importar bibliotecas**"
      ]
    },
    {
      "cell_type": "code",
      "metadata": {
        "id": "jrI3y9pC955A",
        "colab_type": "code",
        "colab": {}
      },
      "source": [
        "# Importar bibliotecas\n",
        "import pandas as pd\n",
        "import matplotlib.pyplot as plt"
      ],
      "execution_count": 153,
      "outputs": []
    },
    {
      "cell_type": "markdown",
      "metadata": {
        "id": "_cQ-Nhun-E2w",
        "colab_type": "text"
      },
      "source": [
        "# **2. Carregar conjunto de dados**"
      ]
    },
    {
      "cell_type": "code",
      "metadata": {
        "id": "MbjKZxRh-IT3",
        "colab_type": "code",
        "colab": {}
      },
      "source": [
        "# Carregar dataset\n",
        "df = pd.read_csv('/content/drive/My Drive/Colab Notebooks/datasets/winequality-red.csv')"
      ],
      "execution_count": 154,
      "outputs": []
    },
    {
      "cell_type": "code",
      "metadata": {
        "id": "VSNkqWPk-KQc",
        "colab_type": "code",
        "colab": {
          "base_uri": "https://localhost:8080/",
          "height": 224
        },
        "outputId": "57eedc8b-b44d-4a8f-ecd8-bfb207115c89"
      },
      "source": [
        "# Verificar dataframe\n",
        "df.head()"
      ],
      "execution_count": 155,
      "outputs": [
        {
          "output_type": "execute_result",
          "data": {
            "text/html": [
              "<div>\n",
              "<style scoped>\n",
              "    .dataframe tbody tr th:only-of-type {\n",
              "        vertical-align: middle;\n",
              "    }\n",
              "\n",
              "    .dataframe tbody tr th {\n",
              "        vertical-align: top;\n",
              "    }\n",
              "\n",
              "    .dataframe thead th {\n",
              "        text-align: right;\n",
              "    }\n",
              "</style>\n",
              "<table border=\"1\" class=\"dataframe\">\n",
              "  <thead>\n",
              "    <tr style=\"text-align: right;\">\n",
              "      <th></th>\n",
              "      <th>fixed acidity</th>\n",
              "      <th>volatile acidity</th>\n",
              "      <th>citric acid</th>\n",
              "      <th>residual sugar</th>\n",
              "      <th>chlorides</th>\n",
              "      <th>free sulfur dioxide</th>\n",
              "      <th>total sulfur dioxide</th>\n",
              "      <th>density</th>\n",
              "      <th>pH</th>\n",
              "      <th>sulphates</th>\n",
              "      <th>alcohol</th>\n",
              "      <th>quality</th>\n",
              "    </tr>\n",
              "  </thead>\n",
              "  <tbody>\n",
              "    <tr>\n",
              "      <th>0</th>\n",
              "      <td>7.4</td>\n",
              "      <td>0.70</td>\n",
              "      <td>0.00</td>\n",
              "      <td>1.9</td>\n",
              "      <td>0.076</td>\n",
              "      <td>11.0</td>\n",
              "      <td>34.0</td>\n",
              "      <td>0.9978</td>\n",
              "      <td>3.51</td>\n",
              "      <td>0.56</td>\n",
              "      <td>9.4</td>\n",
              "      <td>5</td>\n",
              "    </tr>\n",
              "    <tr>\n",
              "      <th>1</th>\n",
              "      <td>7.8</td>\n",
              "      <td>0.88</td>\n",
              "      <td>0.00</td>\n",
              "      <td>2.6</td>\n",
              "      <td>0.098</td>\n",
              "      <td>25.0</td>\n",
              "      <td>67.0</td>\n",
              "      <td>0.9968</td>\n",
              "      <td>3.20</td>\n",
              "      <td>0.68</td>\n",
              "      <td>9.8</td>\n",
              "      <td>5</td>\n",
              "    </tr>\n",
              "    <tr>\n",
              "      <th>2</th>\n",
              "      <td>7.8</td>\n",
              "      <td>0.76</td>\n",
              "      <td>0.04</td>\n",
              "      <td>2.3</td>\n",
              "      <td>0.092</td>\n",
              "      <td>15.0</td>\n",
              "      <td>54.0</td>\n",
              "      <td>0.9970</td>\n",
              "      <td>3.26</td>\n",
              "      <td>0.65</td>\n",
              "      <td>9.8</td>\n",
              "      <td>5</td>\n",
              "    </tr>\n",
              "    <tr>\n",
              "      <th>3</th>\n",
              "      <td>11.2</td>\n",
              "      <td>0.28</td>\n",
              "      <td>0.56</td>\n",
              "      <td>1.9</td>\n",
              "      <td>0.075</td>\n",
              "      <td>17.0</td>\n",
              "      <td>60.0</td>\n",
              "      <td>0.9980</td>\n",
              "      <td>3.16</td>\n",
              "      <td>0.58</td>\n",
              "      <td>9.8</td>\n",
              "      <td>6</td>\n",
              "    </tr>\n",
              "    <tr>\n",
              "      <th>4</th>\n",
              "      <td>7.4</td>\n",
              "      <td>0.70</td>\n",
              "      <td>0.00</td>\n",
              "      <td>1.9</td>\n",
              "      <td>0.076</td>\n",
              "      <td>11.0</td>\n",
              "      <td>34.0</td>\n",
              "      <td>0.9978</td>\n",
              "      <td>3.51</td>\n",
              "      <td>0.56</td>\n",
              "      <td>9.4</td>\n",
              "      <td>5</td>\n",
              "    </tr>\n",
              "  </tbody>\n",
              "</table>\n",
              "</div>"
            ],
            "text/plain": [
              "   fixed acidity  volatile acidity  citric acid  ...  sulphates  alcohol  quality\n",
              "0            7.4              0.70         0.00  ...       0.56      9.4        5\n",
              "1            7.8              0.88         0.00  ...       0.68      9.8        5\n",
              "2            7.8              0.76         0.04  ...       0.65      9.8        5\n",
              "3           11.2              0.28         0.56  ...       0.58      9.8        6\n",
              "4            7.4              0.70         0.00  ...       0.56      9.4        5\n",
              "\n",
              "[5 rows x 12 columns]"
            ]
          },
          "metadata": {
            "tags": []
          },
          "execution_count": 155
        }
      ]
    },
    {
      "cell_type": "markdown",
      "metadata": {
        "id": "phMMs9Cr-lp2",
        "colab_type": "text"
      },
      "source": [
        "## **3. Limpar e organizar os dados**"
      ]
    },
    {
      "cell_type": "code",
      "metadata": {
        "id": "x1YN88dY-oVi",
        "colab_type": "code",
        "colab": {}
      },
      "source": [
        "# Verificar e excluir valores NaN, ? ou dados faltantes\n",
        "df = df.dropna()"
      ],
      "execution_count": 156,
      "outputs": []
    },
    {
      "cell_type": "markdown",
      "metadata": {
        "id": "pDFF6qIL-ts9",
        "colab_type": "text"
      },
      "source": [
        "## **4. Re-escalar os dados**"
      ]
    },
    {
      "cell_type": "markdown",
      "metadata": {
        "id": "j4omRGN--7hV",
        "colab_type": "text"
      },
      "source": [
        "### **Re-escalar usando máximo e mínimo**"
      ]
    },
    {
      "cell_type": "code",
      "metadata": {
        "id": "XDID4esrATy8",
        "colab_type": "code",
        "colab": {}
      },
      "source": [
        "df.iloc[:,:-1] = (df.iloc[:,:-1] - df.iloc[:,:-1].min())/(df.iloc[:,:-1].max()-df.iloc[:,:-1].min())"
      ],
      "execution_count": 157,
      "outputs": []
    },
    {
      "cell_type": "code",
      "metadata": {
        "id": "GG7cLPuY_ESs",
        "colab_type": "code",
        "colab": {
          "base_uri": "https://localhost:8080/",
          "height": 224
        },
        "outputId": "6a6bf51d-e353-473d-df1d-f75eca1180bd"
      },
      "source": [
        "df.head()"
      ],
      "execution_count": 158,
      "outputs": [
        {
          "output_type": "execute_result",
          "data": {
            "text/html": [
              "<div>\n",
              "<style scoped>\n",
              "    .dataframe tbody tr th:only-of-type {\n",
              "        vertical-align: middle;\n",
              "    }\n",
              "\n",
              "    .dataframe tbody tr th {\n",
              "        vertical-align: top;\n",
              "    }\n",
              "\n",
              "    .dataframe thead th {\n",
              "        text-align: right;\n",
              "    }\n",
              "</style>\n",
              "<table border=\"1\" class=\"dataframe\">\n",
              "  <thead>\n",
              "    <tr style=\"text-align: right;\">\n",
              "      <th></th>\n",
              "      <th>fixed acidity</th>\n",
              "      <th>volatile acidity</th>\n",
              "      <th>citric acid</th>\n",
              "      <th>residual sugar</th>\n",
              "      <th>chlorides</th>\n",
              "      <th>free sulfur dioxide</th>\n",
              "      <th>total sulfur dioxide</th>\n",
              "      <th>density</th>\n",
              "      <th>pH</th>\n",
              "      <th>sulphates</th>\n",
              "      <th>alcohol</th>\n",
              "      <th>quality</th>\n",
              "    </tr>\n",
              "  </thead>\n",
              "  <tbody>\n",
              "    <tr>\n",
              "      <th>0</th>\n",
              "      <td>0.247788</td>\n",
              "      <td>0.397260</td>\n",
              "      <td>0.00</td>\n",
              "      <td>0.068493</td>\n",
              "      <td>0.106845</td>\n",
              "      <td>0.140845</td>\n",
              "      <td>0.098940</td>\n",
              "      <td>0.567548</td>\n",
              "      <td>0.606299</td>\n",
              "      <td>0.137725</td>\n",
              "      <td>0.153846</td>\n",
              "      <td>5</td>\n",
              "    </tr>\n",
              "    <tr>\n",
              "      <th>1</th>\n",
              "      <td>0.283186</td>\n",
              "      <td>0.520548</td>\n",
              "      <td>0.00</td>\n",
              "      <td>0.116438</td>\n",
              "      <td>0.143573</td>\n",
              "      <td>0.338028</td>\n",
              "      <td>0.215548</td>\n",
              "      <td>0.494126</td>\n",
              "      <td>0.362205</td>\n",
              "      <td>0.209581</td>\n",
              "      <td>0.215385</td>\n",
              "      <td>5</td>\n",
              "    </tr>\n",
              "    <tr>\n",
              "      <th>2</th>\n",
              "      <td>0.283186</td>\n",
              "      <td>0.438356</td>\n",
              "      <td>0.04</td>\n",
              "      <td>0.095890</td>\n",
              "      <td>0.133556</td>\n",
              "      <td>0.197183</td>\n",
              "      <td>0.169611</td>\n",
              "      <td>0.508811</td>\n",
              "      <td>0.409449</td>\n",
              "      <td>0.191617</td>\n",
              "      <td>0.215385</td>\n",
              "      <td>5</td>\n",
              "    </tr>\n",
              "    <tr>\n",
              "      <th>3</th>\n",
              "      <td>0.584071</td>\n",
              "      <td>0.109589</td>\n",
              "      <td>0.56</td>\n",
              "      <td>0.068493</td>\n",
              "      <td>0.105175</td>\n",
              "      <td>0.225352</td>\n",
              "      <td>0.190813</td>\n",
              "      <td>0.582232</td>\n",
              "      <td>0.330709</td>\n",
              "      <td>0.149701</td>\n",
              "      <td>0.215385</td>\n",
              "      <td>6</td>\n",
              "    </tr>\n",
              "    <tr>\n",
              "      <th>4</th>\n",
              "      <td>0.247788</td>\n",
              "      <td>0.397260</td>\n",
              "      <td>0.00</td>\n",
              "      <td>0.068493</td>\n",
              "      <td>0.106845</td>\n",
              "      <td>0.140845</td>\n",
              "      <td>0.098940</td>\n",
              "      <td>0.567548</td>\n",
              "      <td>0.606299</td>\n",
              "      <td>0.137725</td>\n",
              "      <td>0.153846</td>\n",
              "      <td>5</td>\n",
              "    </tr>\n",
              "  </tbody>\n",
              "</table>\n",
              "</div>"
            ],
            "text/plain": [
              "   fixed acidity  volatile acidity  citric acid  ...  sulphates   alcohol  quality\n",
              "0       0.247788          0.397260         0.00  ...   0.137725  0.153846        5\n",
              "1       0.283186          0.520548         0.00  ...   0.209581  0.215385        5\n",
              "2       0.283186          0.438356         0.04  ...   0.191617  0.215385        5\n",
              "3       0.584071          0.109589         0.56  ...   0.149701  0.215385        6\n",
              "4       0.247788          0.397260         0.00  ...   0.137725  0.153846        5\n",
              "\n",
              "[5 rows x 12 columns]"
            ]
          },
          "metadata": {
            "tags": []
          },
          "execution_count": 158
        }
      ]
    },
    {
      "cell_type": "code",
      "metadata": {
        "id": "Uafwz3gPM0OG",
        "colab_type": "code",
        "colab": {
          "base_uri": "https://localhost:8080/",
          "height": 355
        },
        "outputId": "d0392990-192c-4cea-fa49-d00fc1ee37d0"
      },
      "source": [
        "df.describe()"
      ],
      "execution_count": 159,
      "outputs": [
        {
          "output_type": "execute_result",
          "data": {
            "text/html": [
              "<div>\n",
              "<style scoped>\n",
              "    .dataframe tbody tr th:only-of-type {\n",
              "        vertical-align: middle;\n",
              "    }\n",
              "\n",
              "    .dataframe tbody tr th {\n",
              "        vertical-align: top;\n",
              "    }\n",
              "\n",
              "    .dataframe thead th {\n",
              "        text-align: right;\n",
              "    }\n",
              "</style>\n",
              "<table border=\"1\" class=\"dataframe\">\n",
              "  <thead>\n",
              "    <tr style=\"text-align: right;\">\n",
              "      <th></th>\n",
              "      <th>fixed acidity</th>\n",
              "      <th>volatile acidity</th>\n",
              "      <th>citric acid</th>\n",
              "      <th>residual sugar</th>\n",
              "      <th>chlorides</th>\n",
              "      <th>free sulfur dioxide</th>\n",
              "      <th>total sulfur dioxide</th>\n",
              "      <th>density</th>\n",
              "      <th>pH</th>\n",
              "      <th>sulphates</th>\n",
              "      <th>alcohol</th>\n",
              "      <th>quality</th>\n",
              "    </tr>\n",
              "  </thead>\n",
              "  <tbody>\n",
              "    <tr>\n",
              "      <th>count</th>\n",
              "      <td>1599.000000</td>\n",
              "      <td>1599.000000</td>\n",
              "      <td>1599.000000</td>\n",
              "      <td>1599.000000</td>\n",
              "      <td>1599.000000</td>\n",
              "      <td>1599.000000</td>\n",
              "      <td>1599.000000</td>\n",
              "      <td>1599.000000</td>\n",
              "      <td>1599.000000</td>\n",
              "      <td>1599.000000</td>\n",
              "      <td>1599.000000</td>\n",
              "      <td>1599.000000</td>\n",
              "    </tr>\n",
              "    <tr>\n",
              "      <th>mean</th>\n",
              "      <td>0.329171</td>\n",
              "      <td>0.279329</td>\n",
              "      <td>0.270976</td>\n",
              "      <td>0.112247</td>\n",
              "      <td>0.125988</td>\n",
              "      <td>0.209506</td>\n",
              "      <td>0.142996</td>\n",
              "      <td>0.490211</td>\n",
              "      <td>0.449695</td>\n",
              "      <td>0.196496</td>\n",
              "      <td>0.311228</td>\n",
              "      <td>5.636023</td>\n",
              "    </tr>\n",
              "    <tr>\n",
              "      <th>std</th>\n",
              "      <td>0.154079</td>\n",
              "      <td>0.122644</td>\n",
              "      <td>0.194801</td>\n",
              "      <td>0.096570</td>\n",
              "      <td>0.078573</td>\n",
              "      <td>0.147326</td>\n",
              "      <td>0.116238</td>\n",
              "      <td>0.138571</td>\n",
              "      <td>0.121564</td>\n",
              "      <td>0.101501</td>\n",
              "      <td>0.163949</td>\n",
              "      <td>0.807569</td>\n",
              "    </tr>\n",
              "    <tr>\n",
              "      <th>min</th>\n",
              "      <td>0.000000</td>\n",
              "      <td>0.000000</td>\n",
              "      <td>0.000000</td>\n",
              "      <td>0.000000</td>\n",
              "      <td>0.000000</td>\n",
              "      <td>0.000000</td>\n",
              "      <td>0.000000</td>\n",
              "      <td>0.000000</td>\n",
              "      <td>0.000000</td>\n",
              "      <td>0.000000</td>\n",
              "      <td>0.000000</td>\n",
              "      <td>3.000000</td>\n",
              "    </tr>\n",
              "    <tr>\n",
              "      <th>25%</th>\n",
              "      <td>0.221239</td>\n",
              "      <td>0.184932</td>\n",
              "      <td>0.090000</td>\n",
              "      <td>0.068493</td>\n",
              "      <td>0.096828</td>\n",
              "      <td>0.084507</td>\n",
              "      <td>0.056537</td>\n",
              "      <td>0.406021</td>\n",
              "      <td>0.370079</td>\n",
              "      <td>0.131737</td>\n",
              "      <td>0.169231</td>\n",
              "      <td>5.000000</td>\n",
              "    </tr>\n",
              "    <tr>\n",
              "      <th>50%</th>\n",
              "      <td>0.292035</td>\n",
              "      <td>0.273973</td>\n",
              "      <td>0.260000</td>\n",
              "      <td>0.089041</td>\n",
              "      <td>0.111853</td>\n",
              "      <td>0.183099</td>\n",
              "      <td>0.113074</td>\n",
              "      <td>0.490455</td>\n",
              "      <td>0.448819</td>\n",
              "      <td>0.173653</td>\n",
              "      <td>0.276923</td>\n",
              "      <td>6.000000</td>\n",
              "    </tr>\n",
              "    <tr>\n",
              "      <th>75%</th>\n",
              "      <td>0.407080</td>\n",
              "      <td>0.356164</td>\n",
              "      <td>0.420000</td>\n",
              "      <td>0.116438</td>\n",
              "      <td>0.130217</td>\n",
              "      <td>0.281690</td>\n",
              "      <td>0.197880</td>\n",
              "      <td>0.570117</td>\n",
              "      <td>0.519685</td>\n",
              "      <td>0.239521</td>\n",
              "      <td>0.415385</td>\n",
              "      <td>6.000000</td>\n",
              "    </tr>\n",
              "    <tr>\n",
              "      <th>max</th>\n",
              "      <td>1.000000</td>\n",
              "      <td>1.000000</td>\n",
              "      <td>1.000000</td>\n",
              "      <td>1.000000</td>\n",
              "      <td>1.000000</td>\n",
              "      <td>1.000000</td>\n",
              "      <td>1.000000</td>\n",
              "      <td>1.000000</td>\n",
              "      <td>1.000000</td>\n",
              "      <td>1.000000</td>\n",
              "      <td>1.000000</td>\n",
              "      <td>8.000000</td>\n",
              "    </tr>\n",
              "  </tbody>\n",
              "</table>\n",
              "</div>"
            ],
            "text/plain": [
              "       fixed acidity  volatile acidity  ...      alcohol      quality\n",
              "count    1599.000000       1599.000000  ...  1599.000000  1599.000000\n",
              "mean        0.329171          0.279329  ...     0.311228     5.636023\n",
              "std         0.154079          0.122644  ...     0.163949     0.807569\n",
              "min         0.000000          0.000000  ...     0.000000     3.000000\n",
              "25%         0.221239          0.184932  ...     0.169231     5.000000\n",
              "50%         0.292035          0.273973  ...     0.276923     6.000000\n",
              "75%         0.407080          0.356164  ...     0.415385     6.000000\n",
              "max         1.000000          1.000000  ...     1.000000     8.000000\n",
              "\n",
              "[8 rows x 12 columns]"
            ]
          },
          "metadata": {
            "tags": []
          },
          "execution_count": 159
        }
      ]
    },
    {
      "cell_type": "markdown",
      "metadata": {
        "id": "d9yh8M0PAsU2",
        "colab_type": "text"
      },
      "source": [
        "## **5. Organizar os dados para modelagem**"
      ]
    },
    {
      "cell_type": "markdown",
      "metadata": {
        "id": "beaPrqxoAzU5",
        "colab_type": "text"
      },
      "source": [
        "### **Dividir os dados entre atributos descritores e atributos de classe (target)**"
      ]
    },
    {
      "cell_type": "code",
      "metadata": {
        "id": "X2__DaBLAwVF",
        "colab_type": "code",
        "colab": {
          "base_uri": "https://localhost:8080/",
          "height": 224
        },
        "outputId": "d9ccc2fb-592c-42a0-bab0-b6341e2d63b0"
      },
      "source": [
        "# Dividir dados em atributos descritores e atributo de classe\n",
        "df_x = df.iloc[:,:-1]\n",
        "df_x.head()"
      ],
      "execution_count": 160,
      "outputs": [
        {
          "output_type": "execute_result",
          "data": {
            "text/html": [
              "<div>\n",
              "<style scoped>\n",
              "    .dataframe tbody tr th:only-of-type {\n",
              "        vertical-align: middle;\n",
              "    }\n",
              "\n",
              "    .dataframe tbody tr th {\n",
              "        vertical-align: top;\n",
              "    }\n",
              "\n",
              "    .dataframe thead th {\n",
              "        text-align: right;\n",
              "    }\n",
              "</style>\n",
              "<table border=\"1\" class=\"dataframe\">\n",
              "  <thead>\n",
              "    <tr style=\"text-align: right;\">\n",
              "      <th></th>\n",
              "      <th>fixed acidity</th>\n",
              "      <th>volatile acidity</th>\n",
              "      <th>citric acid</th>\n",
              "      <th>residual sugar</th>\n",
              "      <th>chlorides</th>\n",
              "      <th>free sulfur dioxide</th>\n",
              "      <th>total sulfur dioxide</th>\n",
              "      <th>density</th>\n",
              "      <th>pH</th>\n",
              "      <th>sulphates</th>\n",
              "      <th>alcohol</th>\n",
              "    </tr>\n",
              "  </thead>\n",
              "  <tbody>\n",
              "    <tr>\n",
              "      <th>0</th>\n",
              "      <td>0.247788</td>\n",
              "      <td>0.397260</td>\n",
              "      <td>0.00</td>\n",
              "      <td>0.068493</td>\n",
              "      <td>0.106845</td>\n",
              "      <td>0.140845</td>\n",
              "      <td>0.098940</td>\n",
              "      <td>0.567548</td>\n",
              "      <td>0.606299</td>\n",
              "      <td>0.137725</td>\n",
              "      <td>0.153846</td>\n",
              "    </tr>\n",
              "    <tr>\n",
              "      <th>1</th>\n",
              "      <td>0.283186</td>\n",
              "      <td>0.520548</td>\n",
              "      <td>0.00</td>\n",
              "      <td>0.116438</td>\n",
              "      <td>0.143573</td>\n",
              "      <td>0.338028</td>\n",
              "      <td>0.215548</td>\n",
              "      <td>0.494126</td>\n",
              "      <td>0.362205</td>\n",
              "      <td>0.209581</td>\n",
              "      <td>0.215385</td>\n",
              "    </tr>\n",
              "    <tr>\n",
              "      <th>2</th>\n",
              "      <td>0.283186</td>\n",
              "      <td>0.438356</td>\n",
              "      <td>0.04</td>\n",
              "      <td>0.095890</td>\n",
              "      <td>0.133556</td>\n",
              "      <td>0.197183</td>\n",
              "      <td>0.169611</td>\n",
              "      <td>0.508811</td>\n",
              "      <td>0.409449</td>\n",
              "      <td>0.191617</td>\n",
              "      <td>0.215385</td>\n",
              "    </tr>\n",
              "    <tr>\n",
              "      <th>3</th>\n",
              "      <td>0.584071</td>\n",
              "      <td>0.109589</td>\n",
              "      <td>0.56</td>\n",
              "      <td>0.068493</td>\n",
              "      <td>0.105175</td>\n",
              "      <td>0.225352</td>\n",
              "      <td>0.190813</td>\n",
              "      <td>0.582232</td>\n",
              "      <td>0.330709</td>\n",
              "      <td>0.149701</td>\n",
              "      <td>0.215385</td>\n",
              "    </tr>\n",
              "    <tr>\n",
              "      <th>4</th>\n",
              "      <td>0.247788</td>\n",
              "      <td>0.397260</td>\n",
              "      <td>0.00</td>\n",
              "      <td>0.068493</td>\n",
              "      <td>0.106845</td>\n",
              "      <td>0.140845</td>\n",
              "      <td>0.098940</td>\n",
              "      <td>0.567548</td>\n",
              "      <td>0.606299</td>\n",
              "      <td>0.137725</td>\n",
              "      <td>0.153846</td>\n",
              "    </tr>\n",
              "  </tbody>\n",
              "</table>\n",
              "</div>"
            ],
            "text/plain": [
              "   fixed acidity  volatile acidity  citric acid  ...        pH  sulphates   alcohol\n",
              "0       0.247788          0.397260         0.00  ...  0.606299   0.137725  0.153846\n",
              "1       0.283186          0.520548         0.00  ...  0.362205   0.209581  0.215385\n",
              "2       0.283186          0.438356         0.04  ...  0.409449   0.191617  0.215385\n",
              "3       0.584071          0.109589         0.56  ...  0.330709   0.149701  0.215385\n",
              "4       0.247788          0.397260         0.00  ...  0.606299   0.137725  0.153846\n",
              "\n",
              "[5 rows x 11 columns]"
            ]
          },
          "metadata": {
            "tags": []
          },
          "execution_count": 160
        }
      ]
    },
    {
      "cell_type": "code",
      "metadata": {
        "id": "WnUYaqgmBFNF",
        "colab_type": "code",
        "colab": {
          "base_uri": "https://localhost:8080/",
          "height": 121
        },
        "outputId": "d987c50d-4a76-45f8-8a6a-33a35b39bf35"
      },
      "source": [
        "df_y = df.quality\n",
        "df_y.head()"
      ],
      "execution_count": 161,
      "outputs": [
        {
          "output_type": "execute_result",
          "data": {
            "text/plain": [
              "0    5\n",
              "1    5\n",
              "2    5\n",
              "3    6\n",
              "4    5\n",
              "Name: quality, dtype: int64"
            ]
          },
          "metadata": {
            "tags": []
          },
          "execution_count": 161
        }
      ]
    },
    {
      "cell_type": "markdown",
      "metadata": {
        "id": "HJDACg1dBKf9",
        "colab_type": "text"
      },
      "source": [
        "### **Dividir os dados entre treino e teste**"
      ]
    },
    {
      "cell_type": "code",
      "metadata": {
        "id": "EUfj5dt4BNNU",
        "colab_type": "code",
        "colab": {}
      },
      "source": [
        "# Carregar biblioteca necessária\n",
        "from sklearn.model_selection import train_test_split"
      ],
      "execution_count": 162,
      "outputs": []
    },
    {
      "cell_type": "code",
      "metadata": {
        "id": "XWeu2AEYBUem",
        "colab_type": "code",
        "colab": {}
      },
      "source": [
        "x_train, x_test, y_train, y_test = train_test_split(df_x, df_y, test_size = 0.2)"
      ],
      "execution_count": 163,
      "outputs": []
    },
    {
      "cell_type": "code",
      "metadata": {
        "id": "uLPG-vFZBrkB",
        "colab_type": "code",
        "colab": {
          "base_uri": "https://localhost:8080/",
          "height": 224
        },
        "outputId": "f7e2ce26-3309-43f1-c03d-0214ed6c9f93"
      },
      "source": [
        "x_train.head()"
      ],
      "execution_count": 164,
      "outputs": [
        {
          "output_type": "execute_result",
          "data": {
            "text/html": [
              "<div>\n",
              "<style scoped>\n",
              "    .dataframe tbody tr th:only-of-type {\n",
              "        vertical-align: middle;\n",
              "    }\n",
              "\n",
              "    .dataframe tbody tr th {\n",
              "        vertical-align: top;\n",
              "    }\n",
              "\n",
              "    .dataframe thead th {\n",
              "        text-align: right;\n",
              "    }\n",
              "</style>\n",
              "<table border=\"1\" class=\"dataframe\">\n",
              "  <thead>\n",
              "    <tr style=\"text-align: right;\">\n",
              "      <th></th>\n",
              "      <th>fixed acidity</th>\n",
              "      <th>volatile acidity</th>\n",
              "      <th>citric acid</th>\n",
              "      <th>residual sugar</th>\n",
              "      <th>chlorides</th>\n",
              "      <th>free sulfur dioxide</th>\n",
              "      <th>total sulfur dioxide</th>\n",
              "      <th>density</th>\n",
              "      <th>pH</th>\n",
              "      <th>sulphates</th>\n",
              "      <th>alcohol</th>\n",
              "    </tr>\n",
              "  </thead>\n",
              "  <tbody>\n",
              "    <tr>\n",
              "      <th>1269</th>\n",
              "      <td>0.079646</td>\n",
              "      <td>0.253425</td>\n",
              "      <td>0.03</td>\n",
              "      <td>0.061644</td>\n",
              "      <td>0.053422</td>\n",
              "      <td>0.380282</td>\n",
              "      <td>0.286219</td>\n",
              "      <td>0.053598</td>\n",
              "      <td>0.598425</td>\n",
              "      <td>0.293413</td>\n",
              "      <td>0.861538</td>\n",
              "    </tr>\n",
              "    <tr>\n",
              "      <th>1156</th>\n",
              "      <td>0.345133</td>\n",
              "      <td>0.041096</td>\n",
              "      <td>0.51</td>\n",
              "      <td>0.058219</td>\n",
              "      <td>0.098497</td>\n",
              "      <td>0.619718</td>\n",
              "      <td>0.289753</td>\n",
              "      <td>0.379589</td>\n",
              "      <td>0.464567</td>\n",
              "      <td>0.257485</td>\n",
              "      <td>0.523077</td>\n",
              "    </tr>\n",
              "    <tr>\n",
              "      <th>1496</th>\n",
              "      <td>0.274336</td>\n",
              "      <td>0.287671</td>\n",
              "      <td>0.26</td>\n",
              "      <td>0.068493</td>\n",
              "      <td>0.128548</td>\n",
              "      <td>0.309859</td>\n",
              "      <td>0.498233</td>\n",
              "      <td>0.461821</td>\n",
              "      <td>0.409449</td>\n",
              "      <td>0.155689</td>\n",
              "      <td>0.200000</td>\n",
              "    </tr>\n",
              "    <tr>\n",
              "      <th>178</th>\n",
              "      <td>0.212389</td>\n",
              "      <td>0.469178</td>\n",
              "      <td>0.00</td>\n",
              "      <td>0.109589</td>\n",
              "      <td>0.093489</td>\n",
              "      <td>0.084507</td>\n",
              "      <td>0.049470</td>\n",
              "      <td>0.501468</td>\n",
              "      <td>0.582677</td>\n",
              "      <td>0.137725</td>\n",
              "      <td>0.184615</td>\n",
              "    </tr>\n",
              "    <tr>\n",
              "      <th>806</th>\n",
              "      <td>0.336283</td>\n",
              "      <td>0.089041</td>\n",
              "      <td>0.39</td>\n",
              "      <td>0.075342</td>\n",
              "      <td>0.048414</td>\n",
              "      <td>0.042254</td>\n",
              "      <td>0.014134</td>\n",
              "      <td>0.278267</td>\n",
              "      <td>0.417323</td>\n",
              "      <td>0.227545</td>\n",
              "      <td>0.630769</td>\n",
              "    </tr>\n",
              "  </tbody>\n",
              "</table>\n",
              "</div>"
            ],
            "text/plain": [
              "      fixed acidity  volatile acidity  ...  sulphates   alcohol\n",
              "1269       0.079646          0.253425  ...   0.293413  0.861538\n",
              "1156       0.345133          0.041096  ...   0.257485  0.523077\n",
              "1496       0.274336          0.287671  ...   0.155689  0.200000\n",
              "178        0.212389          0.469178  ...   0.137725  0.184615\n",
              "806        0.336283          0.089041  ...   0.227545  0.630769\n",
              "\n",
              "[5 rows x 11 columns]"
            ]
          },
          "metadata": {
            "tags": []
          },
          "execution_count": 164
        }
      ]
    },
    {
      "cell_type": "code",
      "metadata": {
        "id": "TgQY4dlLBvHn",
        "colab_type": "code",
        "colab": {
          "base_uri": "https://localhost:8080/",
          "height": 121
        },
        "outputId": "034ea96a-24dd-4919-b09c-016b38e604a0"
      },
      "source": [
        "y_train.head()"
      ],
      "execution_count": 165,
      "outputs": [
        {
          "output_type": "execute_result",
          "data": {
            "text/plain": [
              "1269    8\n",
              "1156    7\n",
              "1496    5\n",
              "178     5\n",
              "806     7\n",
              "Name: quality, dtype: int64"
            ]
          },
          "metadata": {
            "tags": []
          },
          "execution_count": 165
        }
      ]
    },
    {
      "cell_type": "markdown",
      "metadata": {
        "id": "YZ5aGJCgB0ia",
        "colab_type": "text"
      },
      "source": [
        "## **6. Definir algoritmo de aprendizado**"
      ]
    },
    {
      "cell_type": "code",
      "metadata": {
        "id": "1oPgjylzB4MW",
        "colab_type": "code",
        "colab": {}
      },
      "source": [
        "# Carregar biblioteca necessária\n",
        "from sklearn.tree import DecisionTreeClassifier"
      ],
      "execution_count": 166,
      "outputs": []
    },
    {
      "cell_type": "code",
      "metadata": {
        "id": "2dSIZ-agCANV",
        "colab_type": "code",
        "colab": {}
      },
      "source": [
        "# Definir modelo\n",
        "classificador = DecisionTreeClassifier()"
      ],
      "execution_count": 167,
      "outputs": []
    },
    {
      "cell_type": "code",
      "metadata": {
        "id": "I90nicLBCF8A",
        "colab_type": "code",
        "colab": {
          "base_uri": "https://localhost:8080/",
          "height": 121
        },
        "outputId": "583396de-c508-47dc-a9c0-51c6f0729347"
      },
      "source": [
        "# Treinar modelo\n",
        "classificador.fit(x_train, y_train)"
      ],
      "execution_count": 168,
      "outputs": [
        {
          "output_type": "execute_result",
          "data": {
            "text/plain": [
              "DecisionTreeClassifier(ccp_alpha=0.0, class_weight=None, criterion='gini',\n",
              "                       max_depth=None, max_features=None, max_leaf_nodes=None,\n",
              "                       min_impurity_decrease=0.0, min_impurity_split=None,\n",
              "                       min_samples_leaf=1, min_samples_split=2,\n",
              "                       min_weight_fraction_leaf=0.0, presort='deprecated',\n",
              "                       random_state=None, splitter='best')"
            ]
          },
          "metadata": {
            "tags": []
          },
          "execution_count": 168
        }
      ]
    },
    {
      "cell_type": "code",
      "metadata": {
        "id": "nnAzqkd_COmx",
        "colab_type": "code",
        "colab": {}
      },
      "source": [
        "# Carregar biblioteca necessária\n",
        "from sklearn.tree import plot_tree"
      ],
      "execution_count": 169,
      "outputs": []
    },
    {
      "cell_type": "code",
      "metadata": {
        "id": "LNJA9fhNCXIy",
        "colab_type": "code",
        "colab": {}
      },
      "source": [
        "# Alterar tamanho da figura\n",
        "plt.rcParams['figure.figsize'] = (30,20)"
      ],
      "execution_count": 170,
      "outputs": []
    },
    {
      "cell_type": "code",
      "metadata": {
        "id": "HIgiTyqjCeR1",
        "colab_type": "code",
        "colab": {
          "base_uri": "https://localhost:8080/",
          "height": 823
        },
        "outputId": "96d1324a-82fb-4ea4-fca3-9f925a952446"
      },
      "source": [
        "plot_tree(classificador, feature_names=df.columns[:-1])\n",
        "plt.show()"
      ],
      "execution_count": 171,
      "outputs": [
        {
          "output_type": "display_data",
          "data": {
            "image/png": "[encoded data removed]",
            "text/plain": [
              "<Figure size 2160x1440 with 1 Axes>"
            ]
          },
          "metadata": {
            "tags": [],
            "needs_background": "light"
          }
        }
      ]
    },
    {
      "cell_type": "code",
      "metadata": {
        "id": "n3RZlhYCDzZD",
        "colab_type": "code",
        "colab": {
          "base_uri": "https://localhost:8080/",
          "height": 278
        },
        "outputId": "e7bf1722-7733-44a1-e079-1e841687b286"
      },
      "source": [
        "# Realizar classificação\n",
        "classificacao = classificador.predict(x_test)\n",
        "classificacao"
      ],
      "execution_count": 172,
      "outputs": [
        {
          "output_type": "execute_result",
          "data": {
            "text/plain": [
              "array([6, 5, 6, 5, 8, 6, 5, 5, 7, 5, 7, 5, 6, 6, 5, 5, 6, 6, 5, 6, 7, 6,\n",
              "       5, 5, 5, 5, 6, 5, 5, 7, 6, 5, 6, 5, 6, 7, 5, 7, 6, 5, 6, 5, 5, 6,\n",
              "       5, 5, 6, 5, 7, 6, 6, 4, 5, 5, 5, 6, 5, 5, 7, 5, 5, 5, 5, 6, 5, 5,\n",
              "       5, 6, 5, 5, 6, 5, 6, 7, 7, 5, 7, 6, 5, 5, 7, 5, 6, 5, 5, 5, 5, 5,\n",
              "       6, 6, 5, 5, 6, 5, 6, 7, 7, 5, 5, 7, 5, 6, 5, 6, 6, 5, 5, 6, 5, 7,\n",
              "       5, 6, 5, 5, 5, 6, 6, 5, 6, 5, 6, 6, 6, 5, 5, 5, 5, 5, 5, 6, 6, 6,\n",
              "       5, 5, 6, 5, 5, 5, 7, 6, 6, 6, 5, 6, 5, 5, 5, 6, 7, 5, 5, 6, 3, 7,\n",
              "       6, 6, 6, 7, 5, 6, 5, 5, 7, 5, 6, 6, 7, 7, 4, 5, 6, 6, 5, 6, 6, 6,\n",
              "       6, 5, 7, 7, 5, 6, 5, 5, 5, 6, 6, 5, 6, 5, 4, 5, 7, 7, 6, 5, 4, 7,\n",
              "       5, 6, 6, 5, 5, 7, 6, 6, 5, 6, 6, 6, 6, 6, 5, 7, 6, 7, 6, 6, 5, 7,\n",
              "       6, 6, 6, 5, 5, 6, 5, 5, 5, 6, 5, 6, 6, 5, 4, 5, 5, 6, 6, 6, 5, 5,\n",
              "       7, 6, 4, 5, 5, 6, 5, 6, 6, 5, 6, 5, 5, 6, 5, 6, 7, 6, 6, 5, 6, 7,\n",
              "       5, 6, 6, 6, 6, 7, 6, 6, 6, 5, 5, 6, 6, 5, 5, 5, 5, 5, 5, 5, 7, 7,\n",
              "       5, 7, 6, 5, 6, 6, 5, 5, 6, 7, 7, 5, 6, 5, 5, 7, 6, 5, 5, 5, 5, 5,\n",
              "       6, 6, 6, 6, 5, 6, 5, 4, 5, 6, 7, 6])"
            ]
          },
          "metadata": {
            "tags": []
          },
          "execution_count": 172
        }
      ]
    },
    {
      "cell_type": "code",
      "metadata": {
        "id": "KofsEYcHKsWf",
        "colab_type": "code",
        "colab": {}
      },
      "source": [
        "# Mudar o tamanho da figura\n",
        "plt.rcParams[\"figure.figsize\"] = (8,6)"
      ],
      "execution_count": 173,
      "outputs": []
    },
    {
      "cell_type": "markdown",
      "metadata": {
        "id": "VnKbim_MD-nV",
        "colab_type": "text"
      },
      "source": [
        "## **7. Avaliar o classificador**"
      ]
    },
    {
      "cell_type": "code",
      "metadata": {
        "id": "uLc18vsiEA2F",
        "colab_type": "code",
        "colab": {}
      },
      "source": [
        "# Calcular acurácia\n",
        "from sklearn.metrics import accuracy_score"
      ],
      "execution_count": 174,
      "outputs": []
    },
    {
      "cell_type": "code",
      "metadata": {
        "id": "9NJzlfAfEJr_",
        "colab_type": "code",
        "colab": {
          "base_uri": "https://localhost:8080/",
          "height": 34
        },
        "outputId": "1987660b-2915-446e-ed82-28b2730343a9"
      },
      "source": [
        "acuracia = accuracy_score(y_test, classificacao)\n",
        "acuracia"
      ],
      "execution_count": 175,
      "outputs": [
        {
          "output_type": "execute_result",
          "data": {
            "text/plain": [
              "0.64375"
            ]
          },
          "metadata": {
            "tags": []
          },
          "execution_count": 175
        }
      ]
    },
    {
      "cell_type": "code",
      "metadata": {
        "id": "QXhvLoSfERdo",
        "colab_type": "code",
        "colab": {}
      },
      "source": [
        "# Calcular precisão\n",
        "from sklearn.metrics import precision_score"
      ],
      "execution_count": 176,
      "outputs": []
    },
    {
      "cell_type": "code",
      "metadata": {
        "id": "b6CHdUbBEWFM",
        "colab_type": "code",
        "colab": {
          "base_uri": "https://localhost:8080/",
          "height": 34
        },
        "outputId": "83c094cf-a1d7-4196-ed9a-6d54cff4cc2c"
      },
      "source": [
        "precisao = precision_score(y_test,classificacao, average='micro')\n",
        "precisao"
      ],
      "execution_count": 177,
      "outputs": [
        {
          "output_type": "execute_result",
          "data": {
            "text/plain": [
              "0.64375"
            ]
          },
          "metadata": {
            "tags": []
          },
          "execution_count": 177
        }
      ]
    },
    {
      "cell_type": "code",
      "metadata": {
        "id": "RzrCwMR5FPJ7",
        "colab_type": "code",
        "colab": {}
      },
      "source": [
        "# Calcular recall\n",
        "from sklearn.metrics import recall_score"
      ],
      "execution_count": 178,
      "outputs": []
    },
    {
      "cell_type": "code",
      "metadata": {
        "id": "p5G-ci7yFWq5",
        "colab_type": "code",
        "colab": {
          "base_uri": "https://localhost:8080/",
          "height": 34
        },
        "outputId": "50289d65-1e83-4f7e-d951-82051f9c0af4"
      },
      "source": [
        "recall = recall_score(y_test, classificacao, average='micro')\n",
        "recall"
      ],
      "execution_count": 179,
      "outputs": [
        {
          "output_type": "execute_result",
          "data": {
            "text/plain": [
              "0.64375"
            ]
          },
          "metadata": {
            "tags": []
          },
          "execution_count": 179
        }
      ]
    },
    {
      "cell_type": "code",
      "metadata": {
        "id": "6mgV4kctFlXr",
        "colab_type": "code",
        "colab": {}
      },
      "source": [
        "# Calcular f1-score\n",
        "from sklearn.metrics import f1_score"
      ],
      "execution_count": 180,
      "outputs": []
    },
    {
      "cell_type": "code",
      "metadata": {
        "id": "4PWo6Mr2Fpzo",
        "colab_type": "code",
        "colab": {
          "base_uri": "https://localhost:8080/",
          "height": 34
        },
        "outputId": "af1aec70-da37-4499-aaa2-d0b416994274"
      },
      "source": [
        "f1 = f1_score(y_test, classificacao, average='micro')\n",
        "f1"
      ],
      "execution_count": 181,
      "outputs": [
        {
          "output_type": "execute_result",
          "data": {
            "text/plain": [
              "0.64375"
            ]
          },
          "metadata": {
            "tags": []
          },
          "execution_count": 181
        }
      ]
    },
    {
      "cell_type": "markdown",
      "metadata": {
        "id": "zkRHOap6F0SD",
        "colab_type": "text"
      },
      "source": [
        "### **Curva ROC**"
      ]
    },
    {
      "cell_type": "code",
      "metadata": {
        "id": "ruwabpf1F15-",
        "colab_type": "code",
        "colab": {}
      },
      "source": [
        "# Plotar curva ROC\n",
        "from sklearn.metrics import roc_curve"
      ],
      "execution_count": 182,
      "outputs": []
    },
    {
      "cell_type": "code",
      "metadata": {
        "id": "I1A-UWfKF72S",
        "colab_type": "code",
        "colab": {}
      },
      "source": [
        "fpr, tpr, _ = roc_curve(y_test, classificacao, pos_label=8)"
      ],
      "execution_count": 183,
      "outputs": []
    },
    {
      "cell_type": "code",
      "metadata": {
        "id": "AXAbkMDuK1PK",
        "colab_type": "code",
        "colab": {
          "base_uri": "https://localhost:8080/",
          "height": 404
        },
        "outputId": "304ace87-2105-472d-9a71-107520fa02b2"
      },
      "source": [
        "plt.plot(fpr,tpr,marker='.')\n",
        "plt.title('Curva ROC')\n",
        "plt.xlabel('Taxa de Falsos Positivos')\n",
        "plt.ylabel('Taxa de Verdadeiro Positivos')\n",
        "plt.show()"
      ],
      "execution_count": 184,
      "outputs": [
        {
          "output_type": "display_data",
          "data": {
            "image/png": "[encoded data removed]",
            "text/plain": [
              "<Figure size 576x432 with 1 Axes>"
            ]
          },
          "metadata": {
            "tags": [],
            "needs_background": "light"
          }
        }
      ]
    },
    {
      "cell_type": "markdown",
      "metadata": {
        "id": "TR7RCjgxGu1o",
        "colab_type": "text"
      },
      "source": [
        "### **Validação cruzada**"
      ]
    },
    {
      "cell_type": "code",
      "metadata": {
        "id": "gIZV94CQGw5C",
        "colab_type": "code",
        "colab": {}
      },
      "source": [
        "# Avaliar modelos com cross validation\n",
        "from sklearn.model_selection import cross_val_score"
      ],
      "execution_count": 185,
      "outputs": []
    },
    {
      "cell_type": "code",
      "metadata": {
        "id": "Chv9R2piG9Wj",
        "colab_type": "code",
        "colab": {}
      },
      "source": [
        "# Definir modelo\n",
        "classificador = DecisionTreeClassifier()"
      ],
      "execution_count": 186,
      "outputs": []
    },
    {
      "cell_type": "code",
      "metadata": {
        "id": "-YI1ecWEHAjO",
        "colab_type": "code",
        "colab": {
          "base_uri": "https://localhost:8080/",
          "height": 52
        },
        "outputId": "2ff012be-37e4-4e41-cbc7-dc77178f6d75"
      },
      "source": [
        "# Calcular scores\n",
        "scores = cross_val_score(classificador, df_x, df_y, cv = 10)\n",
        "scores"
      ],
      "execution_count": 187,
      "outputs": [
        {
          "output_type": "execute_result",
          "data": {
            "text/plain": [
              "array([0.45      , 0.51875   , 0.40625   , 0.5       , 0.4625    ,\n",
              "       0.525     , 0.41875   , 0.49375   , 0.43125   , 0.49685535])"
            ]
          },
          "metadata": {
            "tags": []
          },
          "execution_count": 187
        }
      ]
    },
    {
      "cell_type": "code",
      "metadata": {
        "id": "5iO9XBq0IPur",
        "colab_type": "code",
        "colab": {
          "base_uri": "https://localhost:8080/",
          "height": 34
        },
        "outputId": "6cb2aadc-f34c-4a9b-a6aa-e1ac741e2ee2"
      },
      "source": [
        "scores.mean(), scores.std()"
      ],
      "execution_count": 188,
      "outputs": [
        {
          "output_type": "execute_result",
          "data": {
            "text/plain": [
              "(0.47031053459119504, 0.04029182024521502)"
            ]
          },
          "metadata": {
            "tags": []
          },
          "execution_count": 188
        }
      ]
    },
    {
      "cell_type": "markdown",
      "metadata": {
        "id": "pODa5tpyIWs7",
        "colab_type": "text"
      },
      "source": [
        "## **8. Comparar Árvore de Decisão com Random Forest**"
      ]
    },
    {
      "cell_type": "markdown",
      "metadata": {
        "id": "uAGinPmiIfPO",
        "colab_type": "text"
      },
      "source": [
        "### **Método Holdout**"
      ]
    },
    {
      "cell_type": "code",
      "metadata": {
        "id": "5KHCiK_HIaEc",
        "colab_type": "code",
        "colab": {
          "base_uri": "https://localhost:8080/",
          "height": 121
        },
        "outputId": "76de824d-3ca9-4d15-ad82-78c7d329738a"
      },
      "source": [
        "# Definir árvore de decisão\n",
        "arvore = DecisionTreeClassifier()\n",
        "arvore.fit(x_train, y_train)"
      ],
      "execution_count": 189,
      "outputs": [
        {
          "output_type": "execute_result",
          "data": {
            "text/plain": [
              "DecisionTreeClassifier(ccp_alpha=0.0, class_weight=None, criterion='gini',\n",
              "                       max_depth=None, max_features=None, max_leaf_nodes=None,\n",
              "                       min_impurity_decrease=0.0, min_impurity_split=None,\n",
              "                       min_samples_leaf=1, min_samples_split=2,\n",
              "                       min_weight_fraction_leaf=0.0, presort='deprecated',\n",
              "                       random_state=None, splitter='best')"
            ]
          },
          "metadata": {
            "tags": []
          },
          "execution_count": 189
        }
      ]
    },
    {
      "cell_type": "code",
      "metadata": {
        "id": "2J-T3y69IqH9",
        "colab_type": "code",
        "colab": {
          "base_uri": "https://localhost:8080/",
          "height": 156
        },
        "outputId": "e1743aab-08c3-444a-bb33-745d144ce486"
      },
      "source": [
        "# Definir random forest\n",
        "from sklearn.ensemble import RandomForestClassifier\n",
        "floresta = RandomForestClassifier(n_estimators = 100)\n",
        "floresta.fit(x_train, y_train)"
      ],
      "execution_count": 190,
      "outputs": [
        {
          "output_type": "execute_result",
          "data": {
            "text/plain": [
              "RandomForestClassifier(bootstrap=True, ccp_alpha=0.0, class_weight=None,\n",
              "                       criterion='gini', max_depth=None, max_features='auto',\n",
              "                       max_leaf_nodes=None, max_samples=None,\n",
              "                       min_impurity_decrease=0.0, min_impurity_split=None,\n",
              "                       min_samples_leaf=1, min_samples_split=2,\n",
              "                       min_weight_fraction_leaf=0.0, n_estimators=100,\n",
              "                       n_jobs=None, oob_score=False, random_state=None,\n",
              "                       verbose=0, warm_start=False)"
            ]
          },
          "metadata": {
            "tags": []
          },
          "execution_count": 190
        }
      ]
    },
    {
      "cell_type": "code",
      "metadata": {
        "id": "6dX02mteI3Mb",
        "colab_type": "code",
        "colab": {
          "base_uri": "https://localhost:8080/",
          "height": 34
        },
        "outputId": "f69ec128-613c-4099-e6a0-5cbbf1c97d63"
      },
      "source": [
        "# Calcular acurácia da árvore de decisão\n",
        "arvore.score(x_test, y_test)"
      ],
      "execution_count": 191,
      "outputs": [
        {
          "output_type": "execute_result",
          "data": {
            "text/plain": [
              "0.64375"
            ]
          },
          "metadata": {
            "tags": []
          },
          "execution_count": 191
        }
      ]
    },
    {
      "cell_type": "code",
      "metadata": {
        "id": "1uPym_otJFyi",
        "colab_type": "code",
        "colab": {
          "base_uri": "https://localhost:8080/",
          "height": 34
        },
        "outputId": "7bd26963-16c1-49e7-fd09-c730c9264a13"
      },
      "source": [
        "# Calcular acurácia da random forest\n",
        "floresta.score(x_test, y_test)"
      ],
      "execution_count": 192,
      "outputs": [
        {
          "output_type": "execute_result",
          "data": {
            "text/plain": [
              "0.70625"
            ]
          },
          "metadata": {
            "tags": []
          },
          "execution_count": 192
        }
      ]
    },
    {
      "cell_type": "code",
      "metadata": {
        "id": "1RlYcwfkJXaf",
        "colab_type": "code",
        "colab": {}
      },
      "source": [
        "# Realizar previsão com árvore de decisão\n",
        "clf_arvore = arvore.predict(x_test)"
      ],
      "execution_count": 193,
      "outputs": []
    },
    {
      "cell_type": "code",
      "metadata": {
        "id": "v7rT8AdHJcup",
        "colab_type": "code",
        "colab": {}
      },
      "source": [
        "# Realizar previsão com random forest\n",
        "clf_floresta = floresta.predict(x_test)"
      ],
      "execution_count": 194,
      "outputs": []
    },
    {
      "cell_type": "code",
      "metadata": {
        "id": "9_J3DZ21Jjh_",
        "colab_type": "code",
        "colab": {}
      },
      "source": [
        "# Calcular curva ROC da árvore de decisão\n",
        "fpr_ar, tpr_ar, _ = roc_curve(y_test,clf_arvore, pos_label=8)"
      ],
      "execution_count": 195,
      "outputs": []
    },
    {
      "cell_type": "code",
      "metadata": {
        "id": "vAuKMpy6JqVf",
        "colab_type": "code",
        "colab": {}
      },
      "source": [
        "# Calcular curva roc da random forest\n",
        "fpr_fl, tpr_fl, _ = roc_curve(y_test,clf_floresta, pos_label = 8)"
      ],
      "execution_count": 196,
      "outputs": []
    },
    {
      "cell_type": "code",
      "metadata": {
        "id": "aLLoWgIFKGhM",
        "colab_type": "code",
        "colab": {
          "base_uri": "https://localhost:8080/",
          "height": 404
        },
        "outputId": "eb951acd-a9fe-4b67-d069-05e3b3c64564"
      },
      "source": [
        "# Plotar curvas\n",
        "plt.plot(fpr_ar,tpr_ar,linestyle='--',label='arvore')\n",
        "plt.plot(fpr_fl,tpr_fl,marker='.',label='floresta')\n",
        "plt.title('Curva ROC')\n",
        "plt.legend()\n",
        "plt.xlabel('Taxa de Falsos Positivos')\n",
        "plt.ylabel('Taxa de Verdadeiro Positivos')\n",
        "plt.show()"
      ],
      "execution_count": 197,
      "outputs": [
        {
          "output_type": "display_data",
          "data": {
            "image/png": "[encoded data removed]",
            "text/plain": [
              "<Figure size 576x432 with 1 Axes>"
            ]
          },
          "metadata": {
            "tags": [],
            "needs_background": "light"
          }
        }
      ]
    },
    {
      "cell_type": "markdown",
      "metadata": {
        "id": "yfLtS3GdKRoP",
        "colab_type": "text"
      },
      "source": [
        "### **Validação cruzada**"
      ]
    },
    {
      "cell_type": "code",
      "metadata": {
        "id": "W2y2QfH9KTWt",
        "colab_type": "code",
        "colab": {
          "base_uri": "https://localhost:8080/",
          "height": 34
        },
        "outputId": "9feeaf68-ce74-46c2-8f39-4c5656bd9c25"
      },
      "source": [
        "# Criar árvore\n",
        "arvore = DecisionTreeClassifier()\n",
        "\n",
        "# Calcular os scores\n",
        "scores = cross_val_score(arvore,df_x,df_y,cv=10)\n",
        "round(scores.mean(),3),round(scores.std(),3)"
      ],
      "execution_count": 198,
      "outputs": [
        {
          "output_type": "execute_result",
          "data": {
            "text/plain": [
              "(0.475, 0.031)"
            ]
          },
          "metadata": {
            "tags": []
          },
          "execution_count": 198
        }
      ]
    },
    {
      "cell_type": "code",
      "metadata": {
        "id": "zVoHTJSLKfRl",
        "colab_type": "code",
        "colab": {
          "base_uri": "https://localhost:8080/",
          "height": 34
        },
        "outputId": "f2defcd5-c752-46ee-c12d-c61f226e1a53"
      },
      "source": [
        "# Criar floresta\n",
        "floresta = RandomForestClassifier()\n",
        "\n",
        "# Calcular os scores\n",
        "scores = cross_val_score(floresta,df_x,df_y,cv=10)\n",
        "round(scores.mean(),3),round(scores.std(),3)"
      ],
      "execution_count": 199,
      "outputs": [
        {
          "output_type": "execute_result",
          "data": {
            "text/plain": [
              "(0.568, 0.029)"
            ]
          },
          "metadata": {
            "tags": []
          },
          "execution_count": 199
        }
      ]
    },
    {
      "cell_type": "markdown",
      "metadata": {
        "id": "c9DzK90JMecn",
        "colab_type": "text"
      },
      "source": [
        "## **9. Análise dos Resultados**\n",
        "\n",
        "As categorias de qualidade variam entre a faixa de 3 a 8. Sendo que as categorias 5 e 6 concentram a maior parte das observações.\n",
        "É provável que essa distribuição influencie nos resultados de aprendizado do modelo.\n",
        "\n",
        "A curva ROC demonstra valores bem semelhantes para árvore e floresta. As linhas se afastam do topo e da esquerda do gráfico, indicando um alto número de falsos positivos. \n",
        "\n",
        "A capacidade de predição dos modelos, tanto analisando as saídas da árvore de decisão, quanto da floresta, é relativamente baixa, considerando que variou entre 56,8% (floresta) e 47,5% (árvore).\n",
        "\n",
        "\n",
        "\n"
      ]
    }
  ]
}